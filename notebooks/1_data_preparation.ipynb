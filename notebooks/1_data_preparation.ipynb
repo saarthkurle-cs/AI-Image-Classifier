{
 "cells": [
  {
   "cell_type": "code",
   "execution_count": null,
   "metadata": {
    "vscode": {
     "languageId": "plaintext"
    }
   },
   "outputs": [],
   "source": [
    "import os\n",
    "import shutil\n",
    "import random\n",
    "from tensorflow.keras.preprocessing.image import ImageDataGenerator"
   ]
  },
  {
   "cell_type": "code",
   "execution_count": null,
   "metadata": {
    "vscode": {
     "languageId": "plaintext"
    }
   },
   "outputs": [],
   "source": [
    "# Define directories\n",
    "base_dir = 'data/dataset'\n",
    "train_dir = 'data/train'\n",
    "val_dir = 'data/validation'\n",
    "test_dir = 'data/test'\n",
    "\n",
    "# Create directories\n",
    "os.makedirs(train_dir, exist_ok=True)\n",
    "os.makedirs(val_dir, exist_ok=True)\n",
    "os.makedirs(test_dir, exist_ok=True)\n"
   ]
  },
  {
   "cell_type": "code",
   "execution_count": null,
   "metadata": {
    "vscode": {
     "languageId": "plaintext"
    }
   },
   "outputs": [],
   "source": [
    "# Split data (70/15/15)\n",
    "classes = os.listdir(base_dir)\n",
    "for cls in classes:\n",
    "    os.makedirs(os.path.join(train_dir, cls), exist_ok=True)\n",
    "    os.makedirs(os.path.join(val_dir, cls), exist_ok=True)\n",
    "    os.makedirs(os.path.join(test_dir, cls), exist_ok=True)\n",
    "    \n",
    "    # Get all images for this class\n",
    "    images = os.listdir(os.path.join(base_dir, cls))\n",
    "    random.shuffle(images)\n",
    "    \n",
    "    # Calculate split points\n",
    "    train_split = int(0.7 * len(images))\n",
    "    val_split = int(0.85 * len(images))\n",
    "    \n",
    "    # Split images into train/val/test\n",
    "    train_images = images[:train_split]\n",
    "    val_images = images[train_split:val_split]\n",
    "    test_images = images[val_split:]\n",
    "    \n",
    "    # Copy images to respective folders\n",
    "    for img in train_images:\n",
    "        shutil.copy(os.path.join(base_dir, cls, img), os.path.join(train_dir, cls, img))\n",
    "    for img in val_images:\n",
    "        shutil.copy(os.path.join(base_dir, cls, img), os.path.join(val_dir, cls, img))\n",
    "    for img in test_images:\n",
    "        shutil.copy(os.path.join(base_dir, cls, img), os.path.join(test_dir, cls, img))"
   ]
  },
  {
   "cell_type": "code",
   "execution_count": null,
   "metadata": {
    "vscode": {
     "languageId": "plaintext"
    }
   },
   "outputs": [],
   "source": [
    "# Create data generators with augmentation\n",
    "train_datagen = ImageDataGenerator(\n",
    "    rescale=1./255,\n",
    "    rotation_range=20,\n",
    "    width_shift_range=0.2,\n",
    "    height_shift_range=0.2,\n",
    "    shear_range=0.2,\n",
    "    zoom_range=0.2,\n",
    "    horizontal_flip=True,\n",
    "    fill_mode='nearest'\n",
    ")\n",
    "\n",
    "val_test_datagen = ImageDataGenerator(rescale=1./255)"
   ]
  },
  {
   "cell_type": "code",
   "execution_count": null,
   "metadata": {
    "vscode": {
     "languageId": "plaintext"
    }
   },
   "outputs": [],
   "source": [
    "# Create data generators\n",
    "train_generator = train_datagen.flow_from_directory(\n",
    "    train_dir,\n",
    "    target_size=(224, 224),\n",
    "    batch_size=32,\n",
    "    class_mode='categorical'\n",
    ")\n",
    "\n",
    "validation_generator = val_test_datagen.flow_from_directory(\n",
    "    val_dir,\n",
    "    target_size=(224, 224),\n",
    "    batch_size=32,\n",
    "    class_mode='categorical'\n",
    ")\n",
    "\n",
    "test_generator = val_test_datagen.flow_from_directory(\n",
    "    test_dir,\n",
    "    target_size=(224, 224),\n",
    "    batch_size=32,\n",
    "    class_mode='categorical'\n",
    ")"
   ]
  },
  {
   "cell_type": "code",
   "execution_count": null,
   "metadata": {
    "vscode": {
     "languageId": "plaintext"
    }
   },
   "outputs": [],
   "source": [
    "# Save class indices for later use\n",
    "import json\n",
    "with open('model/class_indices.json', 'w') as f:\n",
    "    json.dump(train_generator.class_indices, f)\n",
    "\n",
    "print(\"Data preparation complete!\")\n",
    "print(f\"Number of training samples: {train_generator.samples}\")\n",
    "print(f\"Number of validation samples: {validation_generator.samples}\")\n",
    "print(f\"Number of test samples: {test_generator.samples}\")\n",
    "print(f\"Number of classes: {len(train_generator.class_indices)}\")"
   ]
  }
 ],
 "metadata": {
  "language_info": {
   "name": "python"
  }
 },
 "nbformat": 4,
 "nbformat_minor": 2
}
